{
  "nbformat": 4,
  "nbformat_minor": 0,
  "metadata": {
    "colab": {
      "provenance": []
    },
    "kernelspec": {
      "name": "python3",
      "display_name": "Python 3"
    },
    "language_info": {
      "name": "python"
    }
  },
  "cells": [
    {
      "cell_type": "markdown",
      "source": [
        "## SWEA"
      ],
      "metadata": {
        "id": "T3sMdUs5O9xO"
      }
    },
    {
      "cell_type": "markdown",
      "source": [
        "### 2005. 파스칼의 삼각형\n",
        "- 단순 나열 말고 배열 이용해서 풀기\n",
        "\n",
        "https://www.youtube.com/watch?v=sINGHT1aTMY"
      ],
      "metadata": {
        "id": "7_Z3rNezP6fH"
      }
    },
    {
      "cell_type": "code",
      "execution_count": null,
      "metadata": {
        "id": "3KOlOyKGO5-I"
      },
      "outputs": [],
      "source": [
        "T = int(input())\n",
        "# 여러개의 테스트 케이스가 주어지므로, 각각을 처리합니다.\n",
        "for test_case in range(1, T + 1):\n",
        "\n",
        "    n = int(input())\n",
        "\n",
        "    # 배열 만들기 (0으로 둘러싼 패딩 적용하기 위해 n+1 배열 생성)\n",
        "    triangle = [ [0]*(n+1) for _ in range(n+1) ]\n",
        "\n",
        "    # [1,1] 좌표에 1 대입\n",
        "    triangle[1][1] = 1\n",
        "\n",
        "    # 전체 좌표\n",
        "    for i in range(2, n+1):\n",
        "        # i 번째 층\n",
        "        for j in range(1, i+1):\n",
        "            triangle[i][j] = triangle[i-1][j-1] + triangle[i-1][j]\n",
        "\n",
        "    # 출력\n",
        "    print(f'#{test_case}')\n",
        "    for i in range(1, n+1):\n",
        "        for j in range(1, i+1):\n",
        "            print(triangle[i][j], end = ' ')\n",
        "\n",
        "        # 삼각형 모양 형성을 위한 개행\n",
        "        print()"
      ]
    },
    {
      "cell_type": "markdown",
      "source": [
        "### 1989. 초심자의 회문 검사"
      ],
      "metadata": {
        "id": "s6F8wKDffXNs"
      }
    },
    {
      "cell_type": "code",
      "source": [
        "T = int(input())\n",
        "# 여러개의 테스트 케이스가 주어지므로, 각각을 처리합니다.\n",
        "for test_case in range(1, T + 1):\n",
        "    # 문자열 입력 받기\n",
        "    palindrome = input()\n",
        "\n",
        "    # 문자열 뒤집기\n",
        "    reverse_palindrome = [ palindrome[i]  for i in range(len(palindrome)-1, -1, -1)]\n",
        "    reverse_palindrome = ''.join(reverse_palindrome)\n",
        "\n",
        "    # 결과값\n",
        "    result = 0\n",
        "\n",
        "    # 판별\n",
        "    if palindrome == reverse_palindrome:\n",
        "        result = 1\n",
        "    print(f'#{test_case} {result}')"
      ],
      "metadata": {
        "id": "pLZV8tdGfZD9"
      },
      "execution_count": null,
      "outputs": []
    },
    {
      "cell_type": "markdown",
      "source": [
        "### 1986. 지그재그 숫자"
      ],
      "metadata": {
        "id": "L97ynEBPgo2Q"
      }
    },
    {
      "cell_type": "code",
      "source": [
        "T = int(input())\n",
        "# 여러개의 테스트 케이스가 주어지므로, 각각을 처리합니다.\n",
        "for test_case in range(1, T + 1):\n",
        "\n",
        "    # 입력값\n",
        "    n = int(input())\n",
        "\n",
        "    # 결과값\n",
        "    result = 0\n",
        "\n",
        "    for i in range(1, n+1):\n",
        "        if i % 2 == 0:\n",
        "            result -= i\n",
        "        else:\n",
        "            result += i\n",
        "\n",
        "    # 출력\n",
        "    print(f'#{test_case} {result}')"
      ],
      "metadata": {
        "id": "P1dTJkXRgqai"
      },
      "execution_count": null,
      "outputs": []
    }
  ]
}