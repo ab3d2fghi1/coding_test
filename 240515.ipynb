{
  "nbformat": 4,
  "nbformat_minor": 0,
  "metadata": {
    "colab": {
      "provenance": []
    },
    "kernelspec": {
      "name": "python3",
      "display_name": "Python 3"
    },
    "language_info": {
      "name": "python"
    }
  },
  "cells": [
    {
      "cell_type": "markdown",
      "source": [
        "## SWEA"
      ],
      "metadata": {
        "id": "Egtpecsy5_pW"
      }
    },
    {
      "cell_type": "markdown",
      "source": [
        "### **2001. 파리퇴치**"
      ],
      "metadata": {
        "id": "FTc9UTC16Bfr"
      }
    },
    {
      "cell_type": "code",
      "execution_count": null,
      "metadata": {
        "id": "5ELufIml5-Xp"
      },
      "outputs": [],
      "source": [
        "T = int(input())\n",
        "# 여러개의 테스트 케이스가 주어지므로, 각각을 처리합니다.\n",
        "for test_case in range(1, T + 1):\n",
        "    # 배열 크기 입력받기\n",
        "    n, m = map(int, input().split())\n",
        "\n",
        "    # 파리 갯수 입력받기\n",
        "    fly_map = [ list(map(int, input().split())) for _ in range(n) ]\n",
        "\n",
        "    # 잡은 파리 갯수\n",
        "    max_fly = []\n",
        "\n",
        "    # 전체 배열에서 파리 잡기\n",
        "    for x in range(n-m+1):\n",
        "        for y in range(n-m+1):\n",
        "            cnt = 0\n",
        "\n",
        "            # 파리채로 파리 잡기\n",
        "            for i in range(x, x+m):\n",
        "                for j in range(y, y+m):\n",
        "                    cnt += fly_map[i][j]\n",
        "            max_fly.append(cnt)\n",
        "\n",
        "    #출력\n",
        "    print(f'#{test_case} {max(max_fly)}')"
      ]
    },
    {
      "cell_type": "markdown",
      "source": [
        "### 1983. 조교의 성적 매기기"
      ],
      "metadata": {
        "id": "gdoc7NY9CaMM"
      }
    },
    {
      "cell_type": "code",
      "source": [
        "T = int(input())\n",
        "# 여러개의 테스트 케이스가 주어지므로, 각각을 처리합니다.\n",
        "for test_case in range(1, T + 1):\n",
        "    # 갯수 입력받기\n",
        "    n, num = map(int, input().split())\n",
        "\n",
        "    # 학점 비율\n",
        "    grade_list = ['A+', 'A0', 'A-', 'B+', 'B0', 'B-', 'C+', 'C0', 'C-', 'D0']\n",
        "    grade = []\n",
        "    if n // 10 ==1:\n",
        "        grade = grade_list\n",
        "    elif n // 10 != 1:\n",
        "        for k in range(10):\n",
        "            for l in range(n//10):\n",
        "                grade.append(grade_list[k])\n",
        "\n",
        "    # 총 환산 점수 저장\n",
        "    total = []\n",
        "\n",
        "    # 점수 입력 받기\n",
        "    for i in range(1, n+1):\n",
        "        a, b, c = map(int, input().split())\n",
        "        # 점수 환산\n",
        "        total_score = (a*0.35) + (b*0.45) + (c*0.2)\n",
        "        total.append([i, total_score])\n",
        "\n",
        "    # 학점 부여를 위해 정렬\n",
        "    total.sort(lambda x: x[1], reverse = True)\n",
        "\n",
        "    for i in range(n):\n",
        "        if total[i][0] == num:\n",
        "            print(f'#{test_case} {grade[i]}')"
      ],
      "metadata": {
        "id": "LZjg6zN2Cboz"
      },
      "execution_count": null,
      "outputs": []
    }
  ]
}