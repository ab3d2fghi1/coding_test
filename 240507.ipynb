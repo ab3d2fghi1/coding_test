{
  "nbformat": 4,
  "nbformat_minor": 0,
  "metadata": {
    "colab": {
      "provenance": []
    },
    "kernelspec": {
      "name": "python3",
      "display_name": "Python 3"
    },
    "language_info": {
      "name": "python"
    }
  },
  "cells": [
    {
      "cell_type": "markdown",
      "source": [
        "## SWEA"
      ],
      "metadata": {
        "id": "gPO_oSsgCHHC"
      }
    },
    {
      "cell_type": "markdown",
      "source": [
        "### **1859. 백만 장자 프로젝트**\n",
        "\n",
        "- 순회할 때는 앞에서부터 순회하지 말고 뒤에서 순회하기\n",
        "- 최대값 일단 하나 정해놓고 최대값이 바뀌면 교체"
      ],
      "metadata": {
        "id": "U3kGW0948lPu"
      }
    },
    {
      "cell_type": "code",
      "execution_count": null,
      "metadata": {
        "id": "xM2MVCC7obha"
      },
      "outputs": [],
      "source": [
        "T = int(input())\n",
        "# 여러개의 테스트 케이스가 주어지므로, 각각을 처리합니다.\n",
        "for test_case in range(1, T + 1):\n",
        "    # 값 입력받기\n",
        "    n = int(input())\n",
        "    sale = list(map(int, input().split()))\n",
        "\n",
        "    # 맨 마지막 값이 최대값\n",
        "    max_value = sale[-1]\n",
        "\n",
        "    # 누적 합산\n",
        "    total = 0\n",
        "\n",
        "    # (n-2) 인덱스 부터 0까지 순회\n",
        "    for i in range(n-2 ,-1,-1):\n",
        "        if sale[i] >= max_value:\n",
        "            max_value = sale[i]\n",
        "        else:\n",
        "            total += (max_value - sale[i])\n",
        "        # 정답 출력\n",
        "    print(f'#{test_case} {total}')"
      ]
    },
    {
      "cell_type": "markdown",
      "source": [
        "### 1926. 간단한 369 게임"
      ],
      "metadata": {
        "id": "euBvq2QqBvUX"
      }
    },
    {
      "cell_type": "code",
      "source": [
        "T = int(input())\n",
        "# 여러개의 테스트 케이스가 주어지므로, 각각을 처리합니다.\n",
        "\n",
        "# 정답 리스트\n",
        "answer = []\n",
        "\n",
        "# 369게임 리스트\n",
        "game = ['3', '6', '9']\n",
        "\n",
        "for test_case in range(1, T + 1):\n",
        "\n",
        "    # 문자열 변환\n",
        "    test_str = list(str(test_case))\n",
        "\n",
        "    # 정답 요소\n",
        "    answer_ele = ''\n",
        "\n",
        "    # 369인 경우\n",
        "    for g in game:\n",
        "        if g in test_str:\n",
        "            answer_ele += ('-' * test_str.count(g))\n",
        "\n",
        "     # 369가 아닌 경우\n",
        "    if answer_ele == '':\n",
        "        answer.append(test_case)\n",
        "    else:\n",
        "        answer.append(answer_ele)\n",
        "\n",
        "# 정답 출력\n",
        "print(*answer, sep = ' ')"
      ],
      "metadata": {
        "id": "CpCRKqvIBc49"
      },
      "execution_count": null,
      "outputs": []
    },
    {
      "cell_type": "markdown",
      "source": [
        "### 2007. 패턴 마디의 길이"
      ],
      "metadata": {
        "id": "3_BQz33qE7sG"
      }
    },
    {
      "cell_type": "code",
      "source": [
        "T = int(input())\n",
        "# 여러개의 테스트 케이스가 주어지므로, 각각을 처리합니다.\n",
        "for test_case in range(1, T + 1):\n",
        "\n",
        "    # 정답\n",
        "    answer = 0\n",
        "\n",
        "    # 문자열 입력받기\n",
        "    str_input = input()\n",
        "\n",
        "    # 첫 자만 따와서 나누기\n",
        "    str_split = str_input.split(str_input[0])\n",
        "\n",
        "    # 문자열 마디 찾기\n",
        "    cnt = 0\n",
        "    answer_str = ''\n",
        "    for i in str_split:\n",
        "        if i not in answer_str:\n",
        "            answer_str += i\n",
        "            cnt +=1\n",
        "\n",
        "    # 정답 출력\n",
        "    print(f'#{test_case} {cnt + len(answer_str)}')"
      ],
      "metadata": {
        "id": "0e9lJywlE_f0"
      },
      "execution_count": null,
      "outputs": []
    }
  ]
}