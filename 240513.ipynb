{
  "nbformat": 4,
  "nbformat_minor": 0,
  "metadata": {
    "colab": {
      "provenance": []
    },
    "kernelspec": {
      "name": "python3",
      "display_name": "Python 3"
    },
    "language_info": {
      "name": "python"
    }
  },
  "cells": [
    {
      "cell_type": "markdown",
      "source": [
        "## SWEA"
      ],
      "metadata": {
        "id": "ic7AGXJVKP4V"
      }
    },
    {
      "cell_type": "markdown",
      "source": [
        "### **1859. 백만장자 프로젝트** *복습*"
      ],
      "metadata": {
        "id": "lM_yDbOeJ4Rf"
      }
    },
    {
      "cell_type": "code",
      "execution_count": null,
      "metadata": {
        "id": "TYbnaJAaJ0gr"
      },
      "outputs": [],
      "source": [
        "T = int(input())\n",
        "# 여러개의 테스트 케이스가 주어지므로, 각각을 처리합니다.\n",
        "for test_case in range(1, T + 1):\n",
        "    # 개수 입력\n",
        "    n = int(input())\n",
        "    # 가격 리스트 입력\n",
        "    sale = list(map(int, input().split()))\n",
        "\n",
        "    # 최댓값\n",
        "    sale_max = sale[-1]\n",
        "    # 누적 합\n",
        "    total = 0\n",
        "    # 뒤에서부터 순회\n",
        "    for i in range(n-2, -1, -1):\n",
        "        if sale_max <= sale[i]:\n",
        "            sale_max = sale[i]\n",
        "        else:\n",
        "            total += (sale_max - sale[i])\n",
        "    print(f'#{test_case} {total}')"
      ]
    },
    {
      "cell_type": "markdown",
      "source": [
        "### **2005. 파스칼의 삼각형** *복습*"
      ],
      "metadata": {
        "id": "DdwKR4uAKVeU"
      }
    },
    {
      "cell_type": "code",
      "source": [
        "T = int(input())\n",
        "# 여러개의 테스트 케이스가 주어지므로, 각각을 처리합니다.\n",
        "for test_case in range(1, T + 1):\n",
        "    # 층수 입력\n",
        "    n = int(input())\n",
        "\n",
        "    # 배열 생성\n",
        "    triangle = [[0]*(n+1) for _ in range(n+1)]\n",
        "\n",
        "    # [1,1]에 1 대입\n",
        "    triangle[1][1] = 1\n",
        "\n",
        "    # 삼각형 생성\n",
        "    for i in range(2, n+1):\n",
        "        for j in range(1, i+1):\n",
        "            triangle[i][j] = triangle[i-1][j] + triangle[i-1][j-1]\n",
        "\n",
        "    print(f'#{test_case}')\n",
        "    for i in range(1, n+1):\n",
        "        for j in range(1, i+1):\n",
        "            print(triangle[i][j], end = ' ')\n",
        "        print('')"
      ],
      "metadata": {
        "id": "qMoSLNwVKen7"
      },
      "execution_count": null,
      "outputs": []
    },
    {
      "cell_type": "markdown",
      "source": [
        "### 1984. 중간 평균값 구하기"
      ],
      "metadata": {
        "id": "DedYBJIuzhtV"
      }
    },
    {
      "cell_type": "code",
      "source": [
        "T = int(input())\n",
        "# 여러개의 테스트 케이스가 주어지므로, 각각을 처리합니다.\n",
        "for test_case in range(1, T + 1):\n",
        "    # 숫자열 입력 받기\n",
        "    int_list = list(map(int, input().split()))\n",
        "\n",
        "    # 최솟값, 최댓값 제거\n",
        "    int_list.remove(max(int_list))\n",
        "    int_list.remove(min(int_list))\n",
        "\n",
        "    # 정답 출력\n",
        "    print(f'#{test_case} {int(round((sum(int_list) / 8), 0))}')"
      ],
      "metadata": {
        "id": "P3D0vA9Nzjpo"
      },
      "execution_count": null,
      "outputs": []
    }
  ]
}